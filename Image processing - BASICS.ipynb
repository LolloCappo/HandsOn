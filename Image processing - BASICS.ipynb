{
 "cells": [
  {
   "cell_type": "code",
   "execution_count": null,
   "id": "52db565f-493e-4a68-975c-4dbbdc618360",
   "metadata": {},
   "outputs": [],
   "source": [
    "# Install Pillow if not already installed\n",
    "!pip install Pillow\n",
    "\n",
    "# Import required libraries\n",
    "from PIL import Image, ImageEnhance, ImageFilter\n",
    "import numpy as np\n",
    "import matplotlib.pyplot as plt\n",
    "\n",
    "# Helper function to display images\n",
    "def show_image(image, title=None):\n",
    "    plt.imshow(np.asarray(image))\n",
    "    if title:\n",
    "        plt.title(title)\n",
    "    plt.axis('off')\n",
    "    plt.show()"
   ]
  },
  {
   "cell_type": "code",
   "execution_count": null,
   "id": "0fe23627-8603-4d57-a4ee-256aa456b91f",
   "metadata": {},
   "outputs": [],
   "source": [
    "# Load an image using PIL (you can use your own image file here)\n",
    "image = Image.open('path_to_your_image.jpg')\n",
    "\n",
    "# Display the original image\n",
    "show_image(image, title=\"Original Image\")\n"
   ]
  },
  {
   "cell_type": "code",
   "execution_count": null,
   "id": "ec51b221-0312-4a76-b32c-5b130a2a8395",
   "metadata": {},
   "outputs": [],
   "source": [
    "# Enhance brightness\n",
    "def change_brightness(image, factor):\n",
    "    enhancer = ImageEnhance.Brightness(image)\n",
    "    return enhancer.enhance(factor)\n",
    "\n",
    "# Brightness adjustment example (factor > 1 increases brightness, factor < 1 decreases)\n",
    "bright_image = change_brightness(image, factor=1.5)  # Increase brightness by 50%\n",
    "show_image(bright_image, title=\"Increased Brightness\")\n"
   ]
  },
  {
   "cell_type": "code",
   "execution_count": null,
   "id": "1c762746-d936-499b-9cf8-2d2a36a866de",
   "metadata": {},
   "outputs": [],
   "source": [
    "# Enhance contrast\n",
    "def change_contrast(image, factor):\n",
    "    enhancer = ImageEnhance.Contrast(image)\n",
    "    return enhancer.enhance(factor)\n",
    "\n",
    "# Contrast adjustment example (factor > 1 increases contrast, factor < 1 decreases)\n",
    "contrast_image = change_contrast(image, factor=1.8)  # Increase contrast\n",
    "show_image(contrast_image, title=\"Increased Contrast\")\n"
   ]
  },
  {
   "cell_type": "code",
   "execution_count": null,
   "id": "080ca761-b2a9-430d-bbdd-4f94c246c375",
   "metadata": {},
   "outputs": [],
   "source": [
    "# Rotate the image\n",
    "rotated_image = image.rotate(45)  # Rotate by 45 degrees\n",
    "show_image(rotated_image, title=\"Rotated Image\")\n",
    "\n",
    "# Flip the image horizontally\n",
    "flipped_image = image.transpose(Image.FLIP_LEFT_RIGHT)\n",
    "show_image(flipped_image, title=\"Flipped Image\")\n"
   ]
  },
  {
   "cell_type": "code",
   "execution_count": null,
   "id": "298512c6-38d9-4df5-b354-bba413647707",
   "metadata": {},
   "outputs": [],
   "source": [
    "# Apply Gaussian Blur\n",
    "blurred_image = image.filter(ImageFilter.GaussianBlur(5))  # Apply blur with radius 5\n",
    "show_image(blurred_image, title=\"Blurred Image\")\n"
   ]
  },
  {
   "cell_type": "code",
   "execution_count": null,
   "id": "9111cf83-fff2-4859-9ea9-3815b8a0ed09",
   "metadata": {},
   "outputs": [],
   "source": [
    "# Convert to grayscale\n",
    "grayscale_image = image.convert('L')\n",
    "show_image(grayscale_image, title=\"Grayscale Image\")\n"
   ]
  },
  {
   "cell_type": "code",
   "execution_count": null,
   "id": "985afed0-47e4-4782-a681-76edb21bd9d4",
   "metadata": {},
   "outputs": [],
   "source": [
    "# Resize the image\n",
    "resized_image = image.resize((100, 100))  # Resize to 100x100 pixels\n",
    "show_image(resized_image, title=\"Resized Image (100x100)\")\n",
    "\n",
    "# Crop the image\n",
    "crop_area = (100, 100, 300, 300)  # Define the area (left, upper, right, lower)\n",
    "cropped_image = image.crop(crop_area)\n",
    "show_image(cropped_image, title=\"Cropped Image\")\n"
   ]
  },
  {
   "cell_type": "code",
   "execution_count": null,
   "id": "b7017bc4-55a1-439d-809b-aa0de2b46788",
   "metadata": {},
   "outputs": [],
   "source": [
    "# Apply edge detection filter\n",
    "edge_image = image.filter(ImageFilter.FIND_EDGES)\n",
    "show_image(edge_image, title=\"Edge Detection\")\n"
   ]
  },
  {
   "cell_type": "code",
   "execution_count": null,
   "id": "f39342fb-dc45-4b8d-bc28-626308951cd4",
   "metadata": {},
   "outputs": [],
   "source": [
    "# Show histogram\n",
    "def show_histogram(image):\n",
    "    histogram = image.histogram()\n",
    "    plt.figure(figsize=(10, 4))\n",
    "    plt.hist(histogram, bins=256, color='blue', alpha=0.7, rwidth=0.85)\n",
    "    plt.title(\"Histogram of the Image\")\n",
    "    plt.show()\n",
    "\n",
    "show_histogram(image)\n"
   ]
  },
  {
   "cell_type": "code",
   "execution_count": null,
   "id": "ce24a1b8-cc38-49f3-9b3c-b6eb67cc01f5",
   "metadata": {},
   "outputs": [],
   "source": []
  }
 ],
 "metadata": {
  "kernelspec": {
   "display_name": "Python 3 (ipykernel)",
   "language": "python",
   "name": "python3"
  },
  "language_info": {
   "codemirror_mode": {
    "name": "ipython",
    "version": 3
   },
   "file_extension": ".py",
   "mimetype": "text/x-python",
   "name": "python",
   "nbconvert_exporter": "python",
   "pygments_lexer": "ipython3",
   "version": "3.12.2"
  }
 },
 "nbformat": 4,
 "nbformat_minor": 5
}
